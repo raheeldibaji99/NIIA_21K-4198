{
 "cells": [
  {
   "cell_type": "code",
   "execution_count": 138,
   "id": "1e8ac59b",
   "metadata": {},
   "outputs": [],
   "source": [
    "# pip install xgboost"
   ]
  },
  {
   "cell_type": "code",
   "execution_count": 139,
   "id": "7a2cabe1",
   "metadata": {},
   "outputs": [],
   "source": [
    "import pandas as pd\n",
    "import numpy as np\n",
    "from sklearn.preprocessing import LabelEncoder\n",
    "from sklearn.model_selection import train_test_split\n",
    "from sklearn.compose import ColumnTransformer\n",
    "from sklearn.pipeline import Pipeline\n",
    "import xgboost as xgb\n",
    "from sklearn.metrics import confusion_matrix"
   ]
  },
  {
   "cell_type": "code",
   "execution_count": 166,
   "id": "bb357d41",
   "metadata": {},
   "outputs": [],
   "source": [
    "df = pd.read_csv('heart.csv')"
   ]
  },
  {
   "cell_type": "code",
   "execution_count": 167,
   "id": "ce171fa1",
   "metadata": {},
   "outputs": [
    {
     "data": {
      "text/html": [
       "<div>\n",
       "<style scoped>\n",
       "    .dataframe tbody tr th:only-of-type {\n",
       "        vertical-align: middle;\n",
       "    }\n",
       "\n",
       "    .dataframe tbody tr th {\n",
       "        vertical-align: top;\n",
       "    }\n",
       "\n",
       "    .dataframe thead th {\n",
       "        text-align: right;\n",
       "    }\n",
       "</style>\n",
       "<table border=\"1\" class=\"dataframe\">\n",
       "  <thead>\n",
       "    <tr style=\"text-align: right;\">\n",
       "      <th></th>\n",
       "      <th>Age</th>\n",
       "      <th>Sex</th>\n",
       "      <th>ChestPainType</th>\n",
       "      <th>RestingBP</th>\n",
       "      <th>Cholesterol</th>\n",
       "      <th>FastingBS</th>\n",
       "      <th>RestingECG</th>\n",
       "      <th>MaxHR</th>\n",
       "      <th>ExerciseAngina</th>\n",
       "      <th>Oldpeak</th>\n",
       "      <th>ST_Slope</th>\n",
       "      <th>HeartDisease</th>\n",
       "    </tr>\n",
       "  </thead>\n",
       "  <tbody>\n",
       "    <tr>\n",
       "      <th>726</th>\n",
       "      <td>41</td>\n",
       "      <td>M</td>\n",
       "      <td>ATA</td>\n",
       "      <td>110</td>\n",
       "      <td>235</td>\n",
       "      <td>0</td>\n",
       "      <td>Normal</td>\n",
       "      <td>153</td>\n",
       "      <td>N</td>\n",
       "      <td>0.0</td>\n",
       "      <td>Up</td>\n",
       "      <td>0</td>\n",
       "    </tr>\n",
       "    <tr>\n",
       "      <th>742</th>\n",
       "      <td>52</td>\n",
       "      <td>F</td>\n",
       "      <td>NAP</td>\n",
       "      <td>136</td>\n",
       "      <td>196</td>\n",
       "      <td>0</td>\n",
       "      <td>LVH</td>\n",
       "      <td>169</td>\n",
       "      <td>N</td>\n",
       "      <td>0.1</td>\n",
       "      <td>Flat</td>\n",
       "      <td>0</td>\n",
       "    </tr>\n",
       "    <tr>\n",
       "      <th>323</th>\n",
       "      <td>62</td>\n",
       "      <td>M</td>\n",
       "      <td>ASY</td>\n",
       "      <td>115</td>\n",
       "      <td>0</td>\n",
       "      <td>1</td>\n",
       "      <td>Normal</td>\n",
       "      <td>128</td>\n",
       "      <td>Y</td>\n",
       "      <td>2.5</td>\n",
       "      <td>Down</td>\n",
       "      <td>1</td>\n",
       "    </tr>\n",
       "    <tr>\n",
       "      <th>171</th>\n",
       "      <td>40</td>\n",
       "      <td>M</td>\n",
       "      <td>NAP</td>\n",
       "      <td>140</td>\n",
       "      <td>235</td>\n",
       "      <td>0</td>\n",
       "      <td>Normal</td>\n",
       "      <td>188</td>\n",
       "      <td>N</td>\n",
       "      <td>0.0</td>\n",
       "      <td>Up</td>\n",
       "      <td>0</td>\n",
       "    </tr>\n",
       "    <tr>\n",
       "      <th>507</th>\n",
       "      <td>40</td>\n",
       "      <td>M</td>\n",
       "      <td>NAP</td>\n",
       "      <td>106</td>\n",
       "      <td>240</td>\n",
       "      <td>0</td>\n",
       "      <td>Normal</td>\n",
       "      <td>80</td>\n",
       "      <td>Y</td>\n",
       "      <td>0.0</td>\n",
       "      <td>Up</td>\n",
       "      <td>0</td>\n",
       "    </tr>\n",
       "  </tbody>\n",
       "</table>\n",
       "</div>"
      ],
      "text/plain": [
       "     Age Sex ChestPainType  RestingBP  Cholesterol  FastingBS RestingECG  \\\n",
       "726   41   M           ATA        110          235          0     Normal   \n",
       "742   52   F           NAP        136          196          0        LVH   \n",
       "323   62   M           ASY        115            0          1     Normal   \n",
       "171   40   M           NAP        140          235          0     Normal   \n",
       "507   40   M           NAP        106          240          0     Normal   \n",
       "\n",
       "     MaxHR ExerciseAngina  Oldpeak ST_Slope  HeartDisease  \n",
       "726    153              N      0.0       Up             0  \n",
       "742    169              N      0.1     Flat             0  \n",
       "323    128              Y      2.5     Down             1  \n",
       "171    188              N      0.0       Up             0  \n",
       "507     80              Y      0.0       Up             0  "
      ]
     },
     "execution_count": 167,
     "metadata": {},
     "output_type": "execute_result"
    }
   ],
   "source": [
    "df.sample(5)"
   ]
  },
  {
   "cell_type": "code",
   "execution_count": 168,
   "id": "f693a3a1",
   "metadata": {},
   "outputs": [
    {
     "data": {
      "text/plain": [
       "(918, 12)"
      ]
     },
     "execution_count": 168,
     "metadata": {},
     "output_type": "execute_result"
    }
   ],
   "source": [
    "df.shape"
   ]
  },
  {
   "cell_type": "code",
   "execution_count": 169,
   "id": "7e42a8fd",
   "metadata": {},
   "outputs": [
    {
     "name": "stdout",
     "output_type": "stream",
     "text": [
      "<class 'pandas.core.frame.DataFrame'>\n",
      "RangeIndex: 918 entries, 0 to 917\n",
      "Data columns (total 12 columns):\n",
      " #   Column          Non-Null Count  Dtype  \n",
      "---  ------          --------------  -----  \n",
      " 0   Age             918 non-null    int64  \n",
      " 1   Sex             918 non-null    object \n",
      " 2   ChestPainType   918 non-null    object \n",
      " 3   RestingBP       918 non-null    int64  \n",
      " 4   Cholesterol     918 non-null    int64  \n",
      " 5   FastingBS       918 non-null    int64  \n",
      " 6   RestingECG      918 non-null    object \n",
      " 7   MaxHR           918 non-null    int64  \n",
      " 8   ExerciseAngina  918 non-null    object \n",
      " 9   Oldpeak         918 non-null    float64\n",
      " 10  ST_Slope        918 non-null    object \n",
      " 11  HeartDisease    918 non-null    int64  \n",
      "dtypes: float64(1), int64(6), object(5)\n",
      "memory usage: 86.2+ KB\n"
     ]
    }
   ],
   "source": [
    "df.info()"
   ]
  },
  {
   "cell_type": "code",
   "execution_count": 170,
   "id": "958b224a",
   "metadata": {},
   "outputs": [
    {
     "data": {
      "text/plain": [
       "Age                50\n",
       "Sex                 2\n",
       "ChestPainType       4\n",
       "RestingBP          67\n",
       "Cholesterol       222\n",
       "FastingBS           2\n",
       "RestingECG          3\n",
       "MaxHR             119\n",
       "ExerciseAngina      2\n",
       "Oldpeak            53\n",
       "ST_Slope            3\n",
       "HeartDisease        2\n",
       "dtype: int64"
      ]
     },
     "execution_count": 170,
     "metadata": {},
     "output_type": "execute_result"
    }
   ],
   "source": [
    "df.nunique()"
   ]
  },
  {
   "cell_type": "code",
   "execution_count": 171,
   "id": "19d613d2",
   "metadata": {},
   "outputs": [],
   "source": [
    "cat_cols = ['Sex','ChestPainType','RestingECG','ExerciseAngina','ST_Slope']"
   ]
  },
  {
   "cell_type": "code",
   "execution_count": 172,
   "id": "7320916d",
   "metadata": {},
   "outputs": [],
   "source": [
    "encoder = LabelEncoder()\n",
    "for column in cat_cols:\n",
    "    df[column] = encoder.fit_transform(df[column])"
   ]
  },
  {
   "cell_type": "code",
   "execution_count": 173,
   "id": "9c68a559",
   "metadata": {},
   "outputs": [
    {
     "data": {
      "text/html": [
       "<div>\n",
       "<style scoped>\n",
       "    .dataframe tbody tr th:only-of-type {\n",
       "        vertical-align: middle;\n",
       "    }\n",
       "\n",
       "    .dataframe tbody tr th {\n",
       "        vertical-align: top;\n",
       "    }\n",
       "\n",
       "    .dataframe thead th {\n",
       "        text-align: right;\n",
       "    }\n",
       "</style>\n",
       "<table border=\"1\" class=\"dataframe\">\n",
       "  <thead>\n",
       "    <tr style=\"text-align: right;\">\n",
       "      <th></th>\n",
       "      <th>Age</th>\n",
       "      <th>Sex</th>\n",
       "      <th>ChestPainType</th>\n",
       "      <th>RestingBP</th>\n",
       "      <th>Cholesterol</th>\n",
       "      <th>FastingBS</th>\n",
       "      <th>RestingECG</th>\n",
       "      <th>MaxHR</th>\n",
       "      <th>ExerciseAngina</th>\n",
       "      <th>Oldpeak</th>\n",
       "      <th>ST_Slope</th>\n",
       "      <th>HeartDisease</th>\n",
       "    </tr>\n",
       "  </thead>\n",
       "  <tbody>\n",
       "    <tr>\n",
       "      <th>0</th>\n",
       "      <td>40</td>\n",
       "      <td>1</td>\n",
       "      <td>1</td>\n",
       "      <td>140</td>\n",
       "      <td>289</td>\n",
       "      <td>0</td>\n",
       "      <td>1</td>\n",
       "      <td>172</td>\n",
       "      <td>0</td>\n",
       "      <td>0.0</td>\n",
       "      <td>2</td>\n",
       "      <td>0</td>\n",
       "    </tr>\n",
       "    <tr>\n",
       "      <th>1</th>\n",
       "      <td>49</td>\n",
       "      <td>0</td>\n",
       "      <td>2</td>\n",
       "      <td>160</td>\n",
       "      <td>180</td>\n",
       "      <td>0</td>\n",
       "      <td>1</td>\n",
       "      <td>156</td>\n",
       "      <td>0</td>\n",
       "      <td>1.0</td>\n",
       "      <td>1</td>\n",
       "      <td>1</td>\n",
       "    </tr>\n",
       "    <tr>\n",
       "      <th>2</th>\n",
       "      <td>37</td>\n",
       "      <td>1</td>\n",
       "      <td>1</td>\n",
       "      <td>130</td>\n",
       "      <td>283</td>\n",
       "      <td>0</td>\n",
       "      <td>2</td>\n",
       "      <td>98</td>\n",
       "      <td>0</td>\n",
       "      <td>0.0</td>\n",
       "      <td>2</td>\n",
       "      <td>0</td>\n",
       "    </tr>\n",
       "    <tr>\n",
       "      <th>3</th>\n",
       "      <td>48</td>\n",
       "      <td>0</td>\n",
       "      <td>0</td>\n",
       "      <td>138</td>\n",
       "      <td>214</td>\n",
       "      <td>0</td>\n",
       "      <td>1</td>\n",
       "      <td>108</td>\n",
       "      <td>1</td>\n",
       "      <td>1.5</td>\n",
       "      <td>1</td>\n",
       "      <td>1</td>\n",
       "    </tr>\n",
       "    <tr>\n",
       "      <th>4</th>\n",
       "      <td>54</td>\n",
       "      <td>1</td>\n",
       "      <td>2</td>\n",
       "      <td>150</td>\n",
       "      <td>195</td>\n",
       "      <td>0</td>\n",
       "      <td>1</td>\n",
       "      <td>122</td>\n",
       "      <td>0</td>\n",
       "      <td>0.0</td>\n",
       "      <td>2</td>\n",
       "      <td>0</td>\n",
       "    </tr>\n",
       "  </tbody>\n",
       "</table>\n",
       "</div>"
      ],
      "text/plain": [
       "   Age  Sex  ChestPainType  RestingBP  Cholesterol  FastingBS  RestingECG  \\\n",
       "0   40    1              1        140          289          0           1   \n",
       "1   49    0              2        160          180          0           1   \n",
       "2   37    1              1        130          283          0           2   \n",
       "3   48    0              0        138          214          0           1   \n",
       "4   54    1              2        150          195          0           1   \n",
       "\n",
       "   MaxHR  ExerciseAngina  Oldpeak  ST_Slope  HeartDisease  \n",
       "0    172               0      0.0         2             0  \n",
       "1    156               0      1.0         1             1  \n",
       "2     98               0      0.0         2             0  \n",
       "3    108               1      1.5         1             1  \n",
       "4    122               0      0.0         2             0  "
      ]
     },
     "execution_count": 173,
     "metadata": {},
     "output_type": "execute_result"
    }
   ],
   "source": [
    "df.head(5)"
   ]
  },
  {
   "cell_type": "code",
   "execution_count": 174,
   "id": "2a30bc87",
   "metadata": {},
   "outputs": [
    {
     "data": {
      "text/plain": [
       "Age                50\n",
       "Sex                 2\n",
       "ChestPainType       4\n",
       "RestingBP          67\n",
       "Cholesterol       222\n",
       "FastingBS           2\n",
       "RestingECG          3\n",
       "MaxHR             119\n",
       "ExerciseAngina      2\n",
       "Oldpeak            53\n",
       "ST_Slope            3\n",
       "HeartDisease        2\n",
       "dtype: int64"
      ]
     },
     "execution_count": 174,
     "metadata": {},
     "output_type": "execute_result"
    }
   ],
   "source": [
    "df.nunique()"
   ]
  },
  {
   "cell_type": "code",
   "execution_count": 175,
   "id": "fa6fc8dc",
   "metadata": {},
   "outputs": [
    {
     "name": "stdout",
     "output_type": "stream",
     "text": [
      "<class 'pandas.core.frame.DataFrame'>\n",
      "RangeIndex: 918 entries, 0 to 917\n",
      "Data columns (total 12 columns):\n",
      " #   Column          Non-Null Count  Dtype  \n",
      "---  ------          --------------  -----  \n",
      " 0   Age             918 non-null    int64  \n",
      " 1   Sex             918 non-null    int32  \n",
      " 2   ChestPainType   918 non-null    int32  \n",
      " 3   RestingBP       918 non-null    int64  \n",
      " 4   Cholesterol     918 non-null    int64  \n",
      " 5   FastingBS       918 non-null    int64  \n",
      " 6   RestingECG      918 non-null    int32  \n",
      " 7   MaxHR           918 non-null    int64  \n",
      " 8   ExerciseAngina  918 non-null    int32  \n",
      " 9   Oldpeak         918 non-null    float64\n",
      " 10  ST_Slope        918 non-null    int32  \n",
      " 11  HeartDisease    918 non-null    int64  \n",
      "dtypes: float64(1), int32(5), int64(6)\n",
      "memory usage: 68.3 KB\n"
     ]
    }
   ],
   "source": [
    "df.info()"
   ]
  },
  {
   "cell_type": "code",
   "execution_count": 178,
   "id": "3121676d",
   "metadata": {},
   "outputs": [],
   "source": [
    "df.to_csv('Encoded_dataset.csv')"
   ]
  },
  {
   "cell_type": "code",
   "execution_count": 176,
   "id": "3e4afafc",
   "metadata": {},
   "outputs": [
    {
     "name": "stdout",
     "output_type": "stream",
     "text": [
      "Accuracy: 0.8478260869565217\n",
      "Precision: 0.813953488372093\n",
      "Recall: 0.8536585365853658\n",
      "F1 score: 0.8333333333333333\n",
      "[[70 16]\n",
      " [12 86]]\n"
     ]
    }
   ],
   "source": [
    "x_train,x_test,y_train,y_test = train_test_split(df.drop(columns = ['HeartDisease'] , axis = 1) , df['HeartDisease'] , test_size = 0.2 , random_state=10)\n",
    "clf = RandomForestClassifier()\n",
    "clf.fit(x_train, y_train)\n",
    "y_pred = clf.predict(x_test)\n",
    "cm = confusion_matrix(y_test, y_pred)\n",
    "cm = np.array(cm)\n",
    "\n",
    "# Calculate accuracy\n",
    "accuracy = (cm[0][0] + cm[1][1]) / np.sum(cm)\n",
    "\n",
    "# Calculate precision\n",
    "precision = cm[0][0] / (cm[0][0] + cm[0][1])\n",
    "\n",
    "# Calculate recall\n",
    "recall = cm[0][0] / (cm[0][0] + cm[1][0])\n",
    "\n",
    "# Calculate F1 score\n",
    "f1_score = 2 * (precision * recall) / (precision + recall)\n",
    "\n",
    "print(\"Accuracy:\", accuracy)\n",
    "print(\"Precision:\", precision)\n",
    "print(\"Recall:\", recall)\n",
    "print(\"F1 score:\", f1_score)\n",
    "\n",
    "print(cm)"
   ]
  },
  {
   "cell_type": "code",
   "execution_count": 151,
   "id": "b5aa4593",
   "metadata": {},
   "outputs": [
    {
     "name": "stdout",
     "output_type": "stream",
     "text": [
      "Max Accuracy 0.9402173913043478 and index in list is  67\n",
      "Max Precision 0.9444444444444444 and index in list is  390\n",
      "Max Recall 0.9743589743589743 and index in list is  67\n",
      "Max f1 score 0.9325153374233129 and index in list is  67\n"
     ]
    }
   ],
   "source": [
    "acc = []\n",
    "pre = []\n",
    "re = []\n",
    "f1 = []\n",
    "\n",
    "for i in range(0,1000):\n",
    "    x_train,x_test,y_train,y_test = train_test_split(df.drop(columns = ['HeartDisease'] , axis = 1) , df['HeartDisease'] , test_size = 0.2 , random_state=i)\n",
    "    clf = xgb.XGBClassifier()\n",
    "    clf.fit(x_train, y_train)\n",
    "    y_pred = clf.predict(x_test)\n",
    "    cm = confusion_matrix(y_test, y_pred)\n",
    "    cm = np.array(cm)\n",
    "\n",
    "    # Calculate accuracy\n",
    "    accuracy = (cm[0][0] + cm[1][1]) / np.sum(cm)\n",
    "    \n",
    "    # Calculate precision\n",
    "    precision = cm[0][0] / (cm[0][0] + cm[0][1])\n",
    "\n",
    "    # Calculate recall\n",
    "    recall = cm[0][0] / (cm[0][0] + cm[1][0])\n",
    "\n",
    "    # Calculate F1 score\n",
    "    f1_score = 2 * (precision * recall) / (precision + recall)\n",
    "    \n",
    "    acc.append(accuracy)\n",
    "    pre.append(precision)\n",
    "    re.append(recall)\n",
    "    f1.append(f1_score)\n",
    "\n",
    "print('Max Accuracy',max(acc), 'and index in list is ',acc.index(max(acc)))\n",
    "print('Max Precision',max(pre), 'and index in list is ',pre.index(max(pre)))\n",
    "print('Max Recall',max(re), 'and index in list is ',re.index(max(re)))\n",
    "print('Max f1 score',max(f1), 'and index in list is ',f1.index(max(f1)))"
   ]
  },
  {
   "cell_type": "code",
   "execution_count": 177,
   "id": "2607b98b",
   "metadata": {},
   "outputs": [
    {
     "name": "stdout",
     "output_type": "stream",
     "text": [
      "Accuracy: 0.8967391304347826\n",
      "Precision: 0.9444444444444444\n",
      "Recall: 0.8192771084337349\n",
      "F1 score: 0.8774193548387097\n",
      "[[68  4]\n",
      " [15 97]]\n"
     ]
    }
   ],
   "source": [
    "x_train,x_test,y_train,y_test = train_test_split(df.drop(columns = ['HeartDisease'] , axis = 1) , df['HeartDisease'] , test_size = 0.2 , random_state=390)\n",
    "tf1 = ColumnTransformer([('Standard Scaler', StandardScaler(), slice(0,11))])\n",
    "clf = xgb.XGBClassifier()\n",
    "pipe = Pipeline([('StandardScaler',tf1),('XgBoost Classifier Model',clf)])\n",
    "pipe.fit(x_train, y_train)\n",
    "y_pred = pipe.predict(x_test)\n",
    "cm = confusion_matrix(y_test, y_pred)\n",
    "cm = np.array(cm)\n",
    "\n",
    "# Calculate accuracy\n",
    "accuracy = (cm[0][0] + cm[1][1]) / np.sum(cm)\n",
    "\n",
    "# Calculate precision\n",
    "precision = cm[0][0] / (cm[0][0] + cm[0][1])\n",
    "\n",
    "# Calculate recall\n",
    "recall = cm[0][0] / (cm[0][0] + cm[1][0])\n",
    "\n",
    "# Calculate F1 score\n",
    "f1_score = 2 * (precision * recall) / (precision + recall)\n",
    "\n",
    "print(\"Accuracy:\", accuracy)\n",
    "print(\"Precision:\", precision)\n",
    "print(\"Recall:\", recall)\n",
    "print(\"F1 score:\", f1_score)\n",
    "\n",
    "print(cm)"
   ]
  },
  {
   "cell_type": "code",
   "execution_count": 164,
   "id": "203eaef8",
   "metadata": {},
   "outputs": [
    {
     "name": "stdout",
     "output_type": "stream",
     "text": [
      "Accuracy: 0.8967391304347826\n",
      "Precision: 0.9444444444444444\n",
      "Recall: 0.8192771084337349\n",
      "F1 score: 0.8774193548387097\n",
      "[[68  4]\n",
      " [15 97]]\n"
     ]
    }
   ],
   "source": [
    "x_train,x_test,y_train,y_test = train_test_split(df.drop(columns = ['HeartDisease'] , axis = 1) , df['HeartDisease'] , test_size = 0.2 , random_state=390)\n",
    "clf = xgb.XGBClassifier()\n",
    "pipe = Pipeline([('XgBoost Classifier Model',clf)])\n",
    "pipe.fit(x_train, y_train)\n",
    "y_pred = pipe.predict(x_test)\n",
    "cm = confusion_matrix(y_test, y_pred)\n",
    "cm = np.array(cm)\n",
    "\n",
    "# Calculate accuracy\n",
    "accuracy = (cm[0][0] + cm[1][1]) / np.sum(cm)\n",
    "\n",
    "# Calculate precision\n",
    "precision = cm[0][0] / (cm[0][0] + cm[0][1])\n",
    "\n",
    "# Calculate recall\n",
    "recall = cm[0][0] / (cm[0][0] + cm[1][0])\n",
    "\n",
    "# Calculate F1 score\n",
    "f1_score = 2 * (precision * recall) / (precision + recall)\n",
    "\n",
    "print(\"Accuracy:\", accuracy)\n",
    "print(\"Precision:\", precision)\n",
    "print(\"Recall:\", recall)\n",
    "print(\"F1 score:\", f1_score)\n",
    "\n",
    "print(cm)"
   ]
  },
  {
   "cell_type": "markdown",
   "id": "1f967bee",
   "metadata": {},
   "source": [
    "# -----------------------------------------------------------------------------------------------------------"
   ]
  },
  {
   "cell_type": "code",
   "execution_count": 237,
   "id": "ab04b7f7",
   "metadata": {},
   "outputs": [],
   "source": [
    "def Model(cols):\n",
    "\n",
    "    import pandas as pd\n",
    "    import numpy as np\n",
    "    from sklearn.model_selection import train_test_split\n",
    "    import xgboost as xgb\n",
    "    from sklearn.metrics import confusion_matrix\n",
    "\n",
    "    df = pd.read_csv('Encoded_dataset.csv')\n",
    "    df.drop(['Unnamed: 0'],axis=1,inplace=True)\n",
    "    \n",
    "    cols_num = []\n",
    "    for i in range (len(cols)):\n",
    "        if cols[i] == 1:\n",
    "            cols_num.append(i)\n",
    "    cols_num.append(11)\n",
    "        \n",
    "    df = df.iloc[:,cols_num]\n",
    "    \n",
    "    x_train,x_test,y_train,y_test = train_test_split(df.drop(columns = ['HeartDisease'] , axis = 1) , df['HeartDisease'] , test_size = 0.2 , random_state=390)\n",
    "    clf = xgb.XGBClassifier()\n",
    "    pipe = Pipeline([('XgBoost Classifier Model',clf)])\n",
    "    pipe.fit(x_train, y_train)i\n",
    "    y_pred = pipe.predict(x_test)\n",
    "    cm = confusion_matrix(y_test, y_pred)\n",
    "    cm = np.array(cm)\n",
    "\n",
    "    # Calculate accuracy\n",
    "    accuracy = (cm[0][0] + cm[1][1]) / np.sum(cm)\n",
    "\n",
    "    # Calculate precision\n",
    "    precision = cm[0][0] / (cm[0][0] + cm[0][1])\n",
    "\n",
    "    # Calculate recall\n",
    "    recall = cm[0][0] / (cm[0][0] + cm[1][0])\n",
    "\n",
    "    # Calculate F1 score\n",
    "    f1_score = 2 * (precision * recall) / (precision + recall)\n",
    "\n",
    "    print(\"Accuracy:\", accuracy)\n",
    "    print(\"Precision:\", precision)\n",
    "    print(\"Recall:\", recall)\n",
    "    print(\"F1 score:\", f1_score)\n",
    "\n",
    "    print(cm)\n",
    "    return precision"
   ]
  },
  {
   "cell_type": "code",
   "execution_count": 240,
   "id": "3bbb2f47",
   "metadata": {},
   "outputs": [
    {
     "name": "stdout",
     "output_type": "stream",
     "text": [
      "Accuracy: 0.8804347826086957\n",
      "Precision: 0.9166666666666666\n",
      "Recall: 0.8048780487804879\n",
      "F1 score: 0.8571428571428571\n",
      "[[66  6]\n",
      " [16 96]]\n",
      "0.9166666666666666\n"
     ]
    }
   ],
   "source": [
    "cols = [0,1,1,1,0,1,0,1,0,1,1]\n",
    "x = Model(cols)\n",
    "print(x)"
   ]
  },
  {
   "cell_type": "code",
   "execution_count": null,
   "id": "c58f6495",
   "metadata": {},
   "outputs": [],
   "source": []
  }
 ],
 "metadata": {
  "kernelspec": {
   "display_name": "Python 3 (ipykernel)",
   "language": "python",
   "name": "python3"
  },
  "language_info": {
   "codemirror_mode": {
    "name": "ipython",
    "version": 3
   },
   "file_extension": ".py",
   "mimetype": "text/x-python",
   "name": "python",
   "nbconvert_exporter": "python",
   "pygments_lexer": "ipython3",
   "version": "3.10.9"
  }
 },
 "nbformat": 4,
 "nbformat_minor": 5
}
